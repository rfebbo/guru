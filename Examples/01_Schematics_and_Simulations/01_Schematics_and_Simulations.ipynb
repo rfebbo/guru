{
 "cells": [
  {
   "cell_type": "code",
   "execution_count": 1,
   "metadata": {},
   "outputs": [
    {
     "name": "stdout",
     "output_type": "stream",
     "text": [
      "Instance Name:\n",
      "\tnmos\n",
      "Library Name:\n",
      "\tanalogLib\n",
      "Cell Name:\n",
      "\tnmos4\n",
      "Pin Names: \n",
      "\tB, D, G, S, \n",
      "Parameter Names: \n",
      "\tmodel, w, l, as, ad, ps, pd, nrd, nrs, ld, ls, m, trise, geo, rdc, rsc, sa, sb, sd, region, degradation, off, Vds, Vgs, Vbs, dtemp, \n",
      "Applied Paramters: \n",
      "\tw = 0.5u\n",
      "\tl = 1u\n",
      "\tmodel = nfet\n",
      "\n"
     ]
    },
    {
     "ename": "AttributeError",
     "evalue": "'ConnPos' object has no attribute 'rot'",
     "output_type": "error",
     "traceback": [
      "\u001b[0;31m---------------------------------------------------------------------------\u001b[0m",
      "\u001b[0;31mAttributeError\u001b[0m                            Traceback (most recent call last)",
      "\u001b[1;32m/home/rfebbo/cadence/Virtuosopy/Examples/01_Schematics_and_Simulations/01_Schematics_and_Simulations.ipynb Cell 1\u001b[0m in \u001b[0;36m<cell line: 23>\u001b[0;34m()\u001b[0m\n\u001b[1;32m     <a href='vscode-notebook-cell://ssh-remote%2Bseneca2.eecs.utk.edu/home/rfebbo/cadence/Virtuosopy/Examples/01_Schematics_and_Simulations/01_Schematics_and_Simulations.ipynb#W0sdnNjb2RlLXJlbW90ZQ%3D%3D?line=19'>20</a>\u001b[0m sch\u001b[39m.\u001b[39mcreate_wire([nmos\u001b[39m.\u001b[39mpins\u001b[39m.\u001b[39mS, nmos\u001b[39m.\u001b[39mpins\u001b[39m.\u001b[39mB], \u001b[39m'\u001b[39m\u001b[39mgnd!\u001b[39m\u001b[39m'\u001b[39m)\n\u001b[1;32m     <a href='vscode-notebook-cell://ssh-remote%2Bseneca2.eecs.utk.edu/home/rfebbo/cadence/Virtuosopy/Examples/01_Schematics_and_Simulations/01_Schematics_and_Simulations.ipynb#W0sdnNjb2RlLXJlbW90ZQ%3D%3D?line=21'>22</a>\u001b[0m \u001b[39m## create a pmos\u001b[39;00m\n\u001b[0;32m---> <a href='vscode-notebook-cell://ssh-remote%2Bseneca2.eecs.utk.edu/home/rfebbo/cadence/Virtuosopy/Examples/01_Schematics_and_Simulations/01_Schematics_and_Simulations.ipynb#W0sdnNjb2RlLXJlbW90ZQ%3D%3D?line=22'>23</a>\u001b[0m pmos \u001b[39m=\u001b[39m sch\u001b[39m.\u001b[39;49mcreate_instance(\u001b[39m'\u001b[39;49m\u001b[39manalogLib\u001b[39;49m\u001b[39m'\u001b[39;49m, \u001b[39m'\u001b[39;49m\u001b[39mpmos4\u001b[39;49m\u001b[39m'\u001b[39;49m, vp\u001b[39m.\u001b[39;49mConnPos(nmos\u001b[39m.\u001b[39;49mpins\u001b[39m.\u001b[39;49mD, \u001b[39m'\u001b[39;49m\u001b[39mD\u001b[39;49m\u001b[39m'\u001b[39;49m, \u001b[39m'\u001b[39;49m\u001b[39mabove\u001b[39;49m\u001b[39m'\u001b[39;49m), \u001b[39m'\u001b[39;49m\u001b[39mpmos\u001b[39;49m\u001b[39m'\u001b[39;49m)\n\u001b[1;32m     <a href='vscode-notebook-cell://ssh-remote%2Bseneca2.eecs.utk.edu/home/rfebbo/cadence/Virtuosopy/Examples/01_Schematics_and_Simulations/01_Schematics_and_Simulations.ipynb#W0sdnNjb2RlLXJlbW90ZQ%3D%3D?line=24'>25</a>\u001b[0m \u001b[39m# apply a width, length, and model\u001b[39;00m\n\u001b[1;32m     <a href='vscode-notebook-cell://ssh-remote%2Bseneca2.eecs.utk.edu/home/rfebbo/cadence/Virtuosopy/Examples/01_Schematics_and_Simulations/01_Schematics_and_Simulations.ipynb#W0sdnNjb2RlLXJlbW90ZQ%3D%3D?line=25'>26</a>\u001b[0m pmos[\u001b[39m'\u001b[39m\u001b[39mw\u001b[39m\u001b[39m'\u001b[39m] \u001b[39m=\u001b[39m \u001b[39m'\u001b[39m\u001b[39m0.5u\u001b[39m\u001b[39m'\u001b[39m\n",
      "File \u001b[0;32m~/cadence/Virtuosopy/src/virtuosopy/Schematic.py:59\u001b[0m, in \u001b[0;36mSchematic.create_instance\u001b[0;34m(self, lib_name, cell_name, pos, name, rot)\u001b[0m\n\u001b[1;32m     57\u001b[0m     \u001b[39mself\u001b[39m\u001b[39m.\u001b[39mcreate_wire([pos\u001b[39m.\u001b[39mexternal_pin, inst\u001b[39m.\u001b[39mpins[pos\u001b[39m.\u001b[39minternal_pin]], label\u001b[39m=\u001b[39mpos\u001b[39m.\u001b[39mnet_name, label_offset\u001b[39m=\u001b[39mpos\u001b[39m.\u001b[39mlabel_offset)\n\u001b[1;32m     58\u001b[0m     \u001b[39mif\u001b[39;00m pos\u001b[39m.\u001b[39madd_pin:\n\u001b[0;32m---> 59\u001b[0m         \u001b[39mself\u001b[39m\u001b[39m.\u001b[39mcreate_pin(pos\u001b[39m.\u001b[39mnet_name, pos\u001b[39m.\u001b[39mdirection, pos\u001b[39m.\u001b[39mlabel_offset, pos\u001b[39m.\u001b[39;49mrot)\n\u001b[1;32m     60\u001b[0m \u001b[39melif\u001b[39;00m \u001b[39misinstance\u001b[39m(pos, \u001b[39mlist\u001b[39m) \u001b[39mand\u001b[39;00m \u001b[39mlen\u001b[39m(pos) \u001b[39m==\u001b[39m \u001b[39m2\u001b[39m:\n\u001b[1;32m     61\u001b[0m     inst \u001b[39m=\u001b[39m _Inst(\u001b[39mself\u001b[39m\u001b[39m.\u001b[39mws, \u001b[39mself\u001b[39m\u001b[39m.\u001b[39mcv, lib_name, cell_name, pos, name, rot)\n",
      "\u001b[0;31mAttributeError\u001b[0m: 'ConnPos' object has no attribute 'rot'"
     ]
    }
   ],
   "source": [
    "%matplotlib widget\n",
    "import virtuosopy as vp\n",
    "import matplotlib.pyplot as plt\n",
    "\n",
    "# This creates (or overwrites if it exists) a schematic called example_circuit under the vp_demonstration library\n",
    "# If overwrite=True is not there and you try to create an instance that already exists you will get an error.\n",
    "sch = vp.Schematic('vp_demonstration', 'inverter', overwrite=True)\n",
    "\n",
    "## create an nmos\n",
    "nmos = sch.create_instance('analogLib', 'nmos4', [0.,0.], 'nmos')\n",
    "\n",
    "# apply a width, length, and model\n",
    "nmos['w'] = '0.5u'\n",
    "nmos['l'] = '1u'\n",
    "nmos['model'] = 'nfet'\n",
    "# print its details\n",
    "print(nmos)\n",
    "\n",
    "# connect the body to the source\n",
    "sch.create_wire([nmos.pins.S, nmos.pins.B], 'gnd!')\n",
    "\n",
    "## create a pmos\n",
    "pmos = sch.create_instance('analogLib', 'pmos4', vp.ConnPos(nmos.pins.D, 'D', 'above'), 'pmos')\n",
    "\n",
    "# apply a width, length, and model\n",
    "pmos['w'] = '0.5u'\n",
    "pmos['l'] = '1u'\n",
    "pmos['model'] = 'pfet'\n",
    "\n",
    "# connect the body to the source\n",
    "sch.create_wire([pmos.pins.S, pmos.pins.B], 'vdd!')\n",
    "\n",
    "# connect the gates\n",
    "sch.create_wire([nmos.pins.G, pmos.pins.G])\n",
    "\n",
    "# connect input pin\n",
    "pin_In = sch.create_pin('In', 'input', vp.ConnPos(nmos.pins.G, None, 'left', 2))\n",
    "pin_Out = sch.create_pin('Out', 'output', vp.ConnPos(nmos.pins.D, None, 'right', 2))\n",
    "\n",
    "if sch.save():\n",
    "    print('error saving')\n",
    "else:\n",
    "    print('Save successful')"
   ]
  },
  {
   "cell_type": "code",
   "execution_count": null,
   "metadata": {},
   "outputs": [],
   "source": [
    "# Setup Simulator\n",
    "print('Setting up Simulation...')\n",
    "model_files = ['../../model/FinFET/14nfet.pm', '../../model/FinFET/14pfet.pm']\n",
    "\n",
    "# simulate for 100ns\n",
    "s = vp.Simulator(sch, model_files)\n",
    "s.tran('20n')\n",
    "\n",
    "# setup stimuli\n",
    "stims = {}\n",
    "\n",
    "# Piecewise linear voltage stimulus \n",
    "stims['In'] = {'type' : 'pwl', 'wave' : vp.create_wave([0.0, 1.2], 10e-9, 1e-9)}\n",
    "\n",
    "# DC stimulus\n",
    "stims['vdd!'] = {'type' : 'dc', 'voltage' : 1.2}\n",
    "stims['gnd!'] = {'type' : 'dc', 'voltage' : 0.0}\n",
    "\n",
    "# apply the stims\n",
    "s.apply_stims(stims)\n",
    "\n",
    "s.track_net('In')\n",
    "s.track_net('Out')\n",
    "\n",
    "s.track_pin(nmos.pins.D, group='current')\n",
    "\n",
    "s.run(plot_in_v=False)\n",
    "\n",
    "s.plot()\n"
   ]
  },
  {
   "cell_type": "code",
   "execution_count": null,
   "metadata": {},
   "outputs": [],
   "source": [
    "# create a VTC\n",
    "\n",
    "x = s.waves['/In']['y'][0]\n",
    "y = s.waves['/Out']['y'][0]\n",
    "\n",
    "fig, ax = plt.subplots(1,1,figsize=(5,4), dpi=200)\n",
    "plt.xlabel('Input (V)')\n",
    "plt.ylabel('Output (V)')\n",
    "plt.plot(x,y)\n",
    "plt.tight_layout()\n",
    "plt.show()\n",
    "\n"
   ]
  },
  {
   "cell_type": "code",
   "execution_count": null,
   "metadata": {},
   "outputs": [],
   "source": []
  }
 ],
 "metadata": {
  "kernelspec": {
   "display_name": "Python 3.10.8 ('vp_env')",
   "language": "python",
   "name": "python3"
  },
  "language_info": {
   "codemirror_mode": {
    "name": "ipython",
    "version": 3
   },
   "file_extension": ".py",
   "mimetype": "text/x-python",
   "name": "python",
   "nbconvert_exporter": "python",
   "pygments_lexer": "ipython3",
   "version": "3.10.4"
  },
  "vscode": {
   "interpreter": {
    "hash": "13a0ec1e385cbc5ae6abd42f56cf6b502ae47483b08f625ccc4c0085073aeca5"
   }
  }
 },
 "nbformat": 4,
 "nbformat_minor": 2
}
