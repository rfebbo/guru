{
 "cells": [
  {
   "cell_type": "code",
   "execution_count": 1,
   "metadata": {},
   "outputs": [
    {
     "name": "stdout",
     "output_type": "stream",
     "text": [
      "Instance Name:\n",
      "\tnmos\n",
      "Library Name:\n",
      "\tanalogLib\n",
      "Cell Name:\n",
      "\tnmos4\n",
      "Pin Names: \n",
      "\tB, D, G, S, \n",
      "Parameter Names: \n",
      "\tmodel, w, l, as, ad, ps, pd, nrd, nrs, ld, ls, m, trise, geo, rdc, rsc, sa, sb, sd, region, degradation, off, Vds, Vgs, Vbs, dtemp, \n",
      "Applied Paramters: \n",
      "\tw = w_read\n",
      "\tl = 1u\n",
      "\tmodel = nfet\n",
      "\n",
      "Save successful\n"
     ]
    }
   ],
   "source": [
    "%matplotlib widget\n",
    "import virtuosopy as vp\n",
    "\n",
    "# This creates (or overwrites if it exists) a schematic called example_circuit under the vp_demonstration library\n",
    "# If overwrite=True is not there and you try to create an instance that already exists you will get an error.\n",
    "sch = vp.Schematic('vp_demonstration', 'example_circuit', overwrite=True)\n",
    "\n",
    "# create a nmos and print its details\n",
    "nmos = sch.create_instance('analogLib', 'nmos4', [0.,0.], 'nmos')\n",
    "\n",
    "#  apply a width, length, and model\n",
    "nmos['w'] = 'w_read'\n",
    "nmos['l'] = '1u'\n",
    "nmos['model'] = 'nfet'\n",
    "print(nmos)\n",
    "\n",
    "# connect the body to the source\n",
    "sch.create_wire([nmos.pins.B, nmos.pins.B.pos + [2., -0.]], 'gnd!')\n",
    "\n",
    "# create a resistor above the nmos connected to the drain\n",
    "# instead of supplying an absolute position, we supply a connection and relative position in the form:\n",
    "#   vp.ConnPos(nmos.pins.D, 'MINUS', 'above', net_name='r_bot')\n",
    "R1 = sch.create_instance('analogLib', 'res', vp.ConnPos(nmos.pins.D, 'MINUS', 'above', net_name='r_bot'), 'R1')\n",
    "R1['r'] = 'r1'\n",
    "\n",
    "# create a resistor below the nfet connected to the source\n",
    "R2 = sch.create_instance('analogLib', 'res', vp.ConnPos(nmos.pins.S, 'PLUS', 'below'), 'R2')\n",
    "R2['r'] = 'r2'\n",
    "\n",
    "# connect pins to the loose ends\n",
    "pin_G = sch.create_pin('G', 'input', vp.ConnPos(nmos.pins.G, None, 'left', 2))\n",
    "pin_D = sch.create_pin('D', 'input', vp.ConnPos(R1.pins.PLUS, None, 'above', 2), 'R270')\n",
    "pin_S = sch.create_pin('S', 'input', vp.ConnPos(R2.pins.MINUS, None, 'below', 2), 'R90')\n",
    "\n",
    "sch.add_param_vars(['w_read', 'r1', 'r2'])\n",
    "\n",
    "if sch.save():\n",
    "    print('error saving')\n",
    "else:\n",
    "    print('Save successful')\n"
   ]
  },
  {
   "cell_type": "code",
   "execution_count": null,
   "metadata": {},
   "outputs": [],
   "source": [
    "# Setup Simulator\n",
    "print('Setting up Simulation...')\n",
    "model_files = ['../../model/FinFET/14nfet.pm']\n",
    "\n",
    "# simulate for 60ns\n",
    "s = vp.Simulator(sch, model_files)\n",
    "s.tran('60n')\n",
    "\n",
    "# setup stimuli\n",
    "stims = {}\n",
    "\n",
    "# Piecewise linear voltage stimulus \n",
    "stims['D'] = {'type' : 'pwl', 'wave' : vp.create_wave([0.0, 3.3], 20e-9, 200e-12)}\n",
    "\n",
    "# bit stimulus\n",
    "# for multiple bit stimuli using the same parameters use this variable to set the defaults\n",
    "s.bit_stim_defaults = {'val0' : 0, 'val1' : 3.3, 'period' : 2e-8, 'rise' : 1e-9, 'fall' : 1e-9}\n",
    "# to change anything just add the key and value to the stimuli\n",
    "stims['G'] = {'type' : 'bit', 'data' : '11000'}\n",
    "\n",
    "# DC stimulus\n",
    "stims['S'] = {'type' : 'dc', 'voltage' : 0.0}\n",
    "\n",
    "# apply the stims\n",
    "s.apply_stims(stims)\n",
    "\n",
    "s.track_net('D')\n",
    "s.track_net('G')\n",
    "s.track_net('S')\n",
    "s.track_net('r_bot', sig_type='r bot')\n",
    "\n",
    "s.track_pin(nmos.pins.D, group='current')\n",
    "\n",
    "def calc_vdrop(waves):\n",
    "    v = waves[0] - waves[1]\n",
    "    return v\n",
    "\n",
    "s.track_custom(fn=calc_vdrop, name='Vd', y_label='NMOS Voltage Drop(V)', signal_types=['v', 'v'], pins=['r_bot', 'S'], group='v_drop')\n",
    "s.track_custom(fn=calc_vdrop, name='Vr', y_label='Resistor Voltage Drop(V)', signal_types=['v', 'v'], pins=['D', 'r_bot'], group='v_drop')\n",
    "\n",
    "p_values = {'w_read' : [1e-6,2.5e-6, 5e-6], 'r1' : [300, 40000, 10], 'r2' : [200, 50000, 80]}\n",
    "\n",
    "print('Running Simulation...')\n",
    "s.run(plot_in_v=False, p_values=p_values)\n",
    "\n",
    "print('Plotting...')\n",
    "s.plot()\n"
   ]
  },
  {
   "cell_type": "code",
   "execution_count": null,
   "metadata": {},
   "outputs": [],
   "source": []
  }
 ],
 "metadata": {
  "interpreter": {
   "hash": "99a344914aadd6d8ce086a9fc75323980b16bb2599498b39f90509f28fcbcae9"
  },
  "kernelspec": {
   "display_name": "Python 3.10.4 ('sb_env')",
   "language": "python",
   "name": "python3"
  },
  "language_info": {
   "codemirror_mode": {
    "name": "ipython",
    "version": 3
   },
   "file_extension": ".py",
   "mimetype": "text/x-python",
   "name": "python",
   "nbconvert_exporter": "python",
   "pygments_lexer": "ipython3",
   "version": "3.10.4"
  },
  "vscode": {
   "interpreter": {
    "hash": "99a344914aadd6d8ce086a9fc75323980b16bb2599498b39f90509f28fcbcae9"
   }
  }
 },
 "nbformat": 4,
 "nbformat_minor": 2
}
