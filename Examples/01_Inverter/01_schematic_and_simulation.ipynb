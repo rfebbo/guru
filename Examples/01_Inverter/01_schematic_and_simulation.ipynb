{
 "cells": [
  {
   "cell_type": "code",
   "execution_count": 5,
   "metadata": {},
   "outputs": [
    {
     "name": "stdout",
     "output_type": "stream",
     "text": [
      "Instance Name:\n",
      "\tnmos\n",
      "Library Name:\n",
      "\tanalogLib\n",
      "Cell Name:\n",
      "\tnmos4\n",
      "Pin Names: \n",
      "\tB, D, G, S, \n",
      "Parameter Names: \n",
      "\tmodel, w, l, as, ad, ps, pd, nrd, nrs, ld, ls, m, trise, geo, rdc, rsc, sa, sb, sd, region, degradation, off, Vds, Vgs, Vbs, dtemp, \n",
      "Applied Paramters: \n",
      "\tw = 0.5u\n",
      "\tl = 1u\n",
      "\tmodel = nfet\n",
      "\n",
      "Save successful\n"
     ]
    }
   ],
   "source": [
    "%matplotlib widget\n",
    "import virtuosopy as vp\n",
    "import matplotlib.pyplot as plt\n",
    "\n",
    "# This creates (or overwrites if it exists) a schematic called example_circuit under the vp_demonstration library\n",
    "# If overwrite=True is not there and you try to create an instance that already exists you will get an error.\n",
    "sch = vp.Schematic('vp_examples', 'inverter', overwrite=True)\n",
    "\n",
    "## create an nmos\n",
    "nmos = sch.create_instance('analogLib', 'nmos4', [0.,0.], 'nmos')\n",
    "\n",
    "# apply a width, length, and model\n",
    "nmos['w'] = '0.5u'\n",
    "nmos['l'] = '1u'\n",
    "nmos['model'] = 'nfet'\n",
    "# print its details\n",
    "print(nmos)\n",
    "\n",
    "# connect the body to the source\n",
    "sch.create_wire([nmos.pins.S, nmos.pins.B], net_name='gnd!')\n",
    "\n",
    "## create a pmos\n",
    "pmos = sch.create_instance('analogLib', 'pmos4', vp.ConnPos(nmos.pins.D, 'D', 'above'), 'pmos')\n",
    "\n",
    "# apply a width, length, and model\n",
    "pmos['w'] = '0.5u'\n",
    "pmos['l'] = '1u'\n",
    "pmos['model'] = 'pfet'\n",
    "\n",
    "# connect the body to the source\n",
    "sch.create_wire([pmos.pins.S, pmos.pins.B], 'vdd!')\n",
    "\n",
    "# connect the gates\n",
    "sch.create_wire([nmos.pins.G, pmos.pins.G])\n",
    "\n",
    "# connect input pin\n",
    "pin_In = sch.create_pin('In', 'input', vp.ConnPos(nmos.pins.G, None, 'left', 2))\n",
    "pin_Out = sch.create_pin('Out', 'output', vp.ConnPos(nmos.pins.D, None, 'right', 2))\n",
    "\n",
    "if sch.save():\n",
    "    print('error saving')\n",
    "else:\n",
    "    print('Save successful')"
   ]
  },
  {
   "cell_type": "code",
   "execution_count": null,
   "metadata": {},
   "outputs": [],
   "source": [
    "# Setup Simulator\n",
    "print('Setting up Simulation...')\n",
    "model_files = ['../../model/FinFET/14nfet.pm', '../../model/FinFET/14pfet.pm']\n",
    "\n",
    "# simulate for 100ns\n",
    "s = vp.Simulator(sch, model_files)\n",
    "s.tran('20n')\n",
    "\n",
    "# setup stimuli\n",
    "stims = {}\n",
    "\n",
    "# Piecewise linear voltage stimulus \n",
    "stims['In'] = {'type' : 'pwl', 'wave' : vp.create_wave([0.0, 1.2], 10e-9, 1e-9)}\n",
    "\n",
    "# DC stimulus\n",
    "stims['vdd!'] = {'type' : 'dc', 'voltage' : 1.2}\n",
    "stims['gnd!'] = {'type' : 'dc', 'voltage' : 0.0}\n",
    "\n",
    "# apply the stims\n",
    "s.apply_stims(stims)\n",
    "\n",
    "s.track_net('In')\n",
    "s.track_net('Out')\n",
    "\n",
    "s.track_pin(nmos.pins.D, group='current')\n",
    "\n",
    "s.run(plot_in_v=False)\n",
    "\n",
    "s.plot()\n"
   ]
  },
  {
   "cell_type": "code",
   "execution_count": null,
   "metadata": {},
   "outputs": [],
   "source": [
    "# create a VTC\n",
    "\n",
    "x = s.waves['/In']['y'][0]\n",
    "y = s.waves['/Out']['y'][0]\n",
    "\n",
    "fig, ax = plt.subplots(1,1,figsize=(5,4), dpi=200)\n",
    "plt.xlabel('Input (V)')\n",
    "plt.ylabel('Output (V)')\n",
    "plt.plot(x,y)\n",
    "plt.tight_layout()\n",
    "plt.show()\n",
    "\n"
   ]
  },
  {
   "cell_type": "code",
   "execution_count": null,
   "metadata": {},
   "outputs": [],
   "source": []
  }
 ],
 "metadata": {
  "kernelspec": {
   "display_name": "Python 3.10.8 ('vp_env')",
   "language": "python",
   "name": "python3"
  },
  "language_info": {
   "codemirror_mode": {
    "name": "ipython",
    "version": 3
   },
   "file_extension": ".py",
   "mimetype": "text/x-python",
   "name": "python",
   "nbconvert_exporter": "python",
   "pygments_lexer": "ipython3",
   "version": "3.10.4"
  },
  "vscode": {
   "interpreter": {
    "hash": "13a0ec1e385cbc5ae6abd42f56cf6b502ae47483b08f625ccc4c0085073aeca5"
   }
  }
 },
 "nbformat": 4,
 "nbformat_minor": 2
}
