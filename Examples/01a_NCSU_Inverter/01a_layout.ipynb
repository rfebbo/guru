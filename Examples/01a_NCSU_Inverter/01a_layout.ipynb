{
 "cells": [
  {
   "cell_type": "code",
   "execution_count": 1,
   "metadata": {},
   "outputs": [],
   "source": [
    "import virtuosopy as vp"
   ]
  },
  {
   "cell_type": "code",
   "execution_count": null,
   "metadata": {},
   "outputs": [],
   "source": [
    "lt = vp.Layout('vp_NCSU_examples', 'inverter', overwrite=True)\n",
    "\n",
    "nmos2 = lt.create_instance('dgnfet', 'nmos2' + name_tag, pos + [-props['nmos2']['l']/2- 1.5, nm_memr_dist-0.3], 'R180', props['nmos2'])\n"
   ]
  }
 ],
 "metadata": {
  "kernelspec": {
   "display_name": "sb_env",
   "language": "python",
   "name": "python3"
  },
  "language_info": {
   "codemirror_mode": {
    "name": "ipython",
    "version": 3
   },
   "file_extension": ".py",
   "mimetype": "text/x-python",
   "name": "python",
   "nbconvert_exporter": "python",
   "pygments_lexer": "ipython3",
   "version": "3.10.4"
  },
  "orig_nbformat": 4
 },
 "nbformat": 4,
 "nbformat_minor": 2
}
